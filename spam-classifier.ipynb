{
 "cells": [
  {
   "cell_type": "code",
   "execution_count": 3,
   "id": "88efd2a0-9260-4cbf-a7f2-c12d6e9a3f1b",
   "metadata": {},
   "outputs": [],
   "source": [
    "import numpy as np\n",
    "import pandas as pd\n",
    "from sklearn.model_selection import train_test_split\n",
    "from sklearn.feature_extraction.text import TfidfVectorizer\n",
    "from sklearn.linear_model import LogisticRegression\n",
    "from sklearn.pipeline import Pipeline\n",
    "from sklearn.metrics import accuracy_score"
   ]
  },
  {
   "cell_type": "code",
   "execution_count": 4,
   "id": "80606ac0-9ad1-4987-bd8d-5a1117a275b5",
   "metadata": {},
   "outputs": [],
   "source": [
    "# Load data\n",
    "df = pd.read_csv(\"mail_data.csv\")\n",
    "data = df.where((pd.notnull(df)), \"\")\n",
    "data.loc[data['Category'] == 'spam', 'Category',] = 0\n",
    "data.loc[data['Category'] == 'ham', 'Category',] = 1\n",
    "\n",
    "X = data['Message']\n",
    "Y = data['Category']"
   ]
  },
  {
   "cell_type": "code",
   "execution_count": 5,
   "id": "dfdee71a-579b-47d5-a908-76ab55591d34",
   "metadata": {},
   "outputs": [],
   "source": [
    "# Create a pipeline for feature extraction and model fitting\n",
    "pipeline = Pipeline([\n",
    "    ('tfidf', TfidfVectorizer(min_df=1, stop_words='english', lowercase=True)),\n",
    "    ('clf', LogisticRegression())\n",
    "])"
   ]
  },
  {
   "cell_type": "code",
   "execution_count": 6,
   "id": "e45c2808-47c6-4a04-a293-a9f69b9f9875",
   "metadata": {},
   "outputs": [],
   "source": [
    "# Split data into training and testing sets\n",
    "X_train, X_test, Y_train, Y_test = train_test_split(X, Y, test_size=0.2, random_state=3)\n",
    "Y_train = Y_train.astype('int')\n",
    "Y_test = Y_test.astype('int')"
   ]
  },
  {
   "cell_type": "code",
   "execution_count": 7,
   "id": "f3674d6a-2228-421d-be7b-1a9571321fbb",
   "metadata": {},
   "outputs": [
    {
     "name": "stdout",
     "output_type": "stream",
     "text": [
      "Accuracy: 0.9659192825112107\n"
     ]
    }
   ],
   "source": [
    "# Fit the pipeline on the training data\n",
    "pipeline.fit(X_train, Y_train)\n",
    "\n",
    "# Make predictions on the test data\n",
    "predictions = pipeline.predict(X_test)\n",
    "\n",
    "# Evaluate accuracy\n",
    "accuracy = accuracy_score(Y_test, predictions)\n",
    "print(\"Accuracy:\", accuracy)"
   ]
  },
  {
   "cell_type": "code",
   "execution_count": 8,
   "id": "d9833984-c3de-4799-91a3-55026ff33d06",
   "metadata": {},
   "outputs": [
    {
     "name": "stdout",
     "output_type": "stream",
     "text": [
      "Prediction: 1\n",
      "The email is predicted as ham.\n"
     ]
    }
   ],
   "source": [
    "new_email = \"Congratulations! You've won a free trip to the Bahamas!\"\n",
    "\n",
    "prediction = pipeline.predict([new_email])  # Note the list format for a single input\n",
    "\n",
    "print(\"Prediction:\", prediction[0])  # Access the prediction value\n",
    "\n",
    "if prediction[0] == 0:\n",
    "    print(\"The email is predicted as spam.\")\n",
    "else:\n",
    "    print(\"The email is predicted as ham.\")"
   ]
  },
  {
   "cell_type": "code",
   "execution_count": 9,
   "id": "cfcd34ab-9f95-4ff1-b27e-f569f33b09db",
   "metadata": {},
   "outputs": [
    {
     "name": "stdout",
     "output_type": "stream",
     "text": [
      "Prediction: 0\n",
      "The email is predicted as spam.\n"
     ]
    }
   ],
   "source": [
    "new_email = \"This is the 2nd time weve tried to contact u. 2 claim is easy, just call 0983 9339 7645!\"\n",
    "\n",
    "prediction = pipeline.predict([new_email])  # Note the list format for a single input\n",
    "\n",
    "print(\"Prediction:\", prediction[0])  # Access the prediction value\n",
    "\n",
    "if prediction[0] == 0:\n",
    "    print(\"The email is predicted as spam.\")\n",
    "else:\n",
    "    print(\"The email is predicted as ham.\")"
   ]
  },
  {
   "cell_type": "code",
   "execution_count": 10,
   "id": "aca7962b",
   "metadata": {},
   "outputs": [
    {
     "name": "stdout",
     "output_type": "stream",
     "text": [
      "\n",
      "\u001b[1m[\u001b[0m\u001b[34;49mnotice\u001b[0m\u001b[1;39;49m]\u001b[0m\u001b[39;49m A new release of pip is available: \u001b[0m\u001b[31;49m23.2.1\u001b[0m\u001b[39;49m -> \u001b[0m\u001b[32;49m23.3.2\u001b[0m\n",
      "\u001b[1m[\u001b[0m\u001b[34;49mnotice\u001b[0m\u001b[1;39;49m]\u001b[0m\u001b[39;49m To update, run: \u001b[0m\u001b[32;49mpip install --upgrade pip\u001b[0m\n"
     ]
    },
    {
     "data": {
      "text/plain": [
       "['spam_classifier.pkl']"
      ]
     },
     "execution_count": 10,
     "metadata": {},
     "output_type": "execute_result"
    }
   ],
   "source": [
    "!pip install -q joblib\n",
    "import joblib\n",
    "\n",
    "joblib.dump(pipeline, 'spam_classifier.pkl')"
   ]
  },
  {
   "cell_type": "code",
   "execution_count": 11,
   "id": "a608e94f",
   "metadata": {},
   "outputs": [
    {
     "name": "stdout",
     "output_type": "stream",
     "text": [
      "Prediction: 1\n",
      "The email is predicted as ham.\n"
     ]
    }
   ],
   "source": [
    "new_email = \"We r trying to reach u for 2 long. Call 9383 2383 9292 for help. Thx u\"\n",
    "\n",
    "prediction = pipeline.predict([new_email])  # Note the list format for a single input\n",
    "\n",
    "print(\"Prediction:\", prediction[0])  # Access the prediction value\n",
    "\n",
    "if prediction[0] == 0:\n",
    "    print(\"The email is predicted as spam.\")\n",
    "else:\n",
    "    print(\"The email is predicted as ham.\")"
   ]
  },
  {
   "cell_type": "code",
   "execution_count": null,
   "id": "879ce76a-588c-4452-85b8-f5fc5b751f91",
   "metadata": {},
   "outputs": [],
   "source": []
  }
 ],
 "metadata": {
  "kernelspec": {
   "display_name": "Python 3 (ipykernel)",
   "language": "python",
   "name": "python3"
  },
  "language_info": {
   "codemirror_mode": {
    "name": "ipython",
    "version": 3
   },
   "file_extension": ".py",
   "mimetype": "text/x-python",
   "name": "python",
   "nbconvert_exporter": "python",
   "pygments_lexer": "ipython3",
   "version": "3.10.4"
  }
 },
 "nbformat": 4,
 "nbformat_minor": 5
}
